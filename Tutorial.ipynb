{
 "cells": [
  {
   "cell_type": "markdown",
   "metadata": {},
   "source": [
    "# Exercise 1: Connect to openLCA via olca-ipc"
   ]
  },
  {
   "cell_type": "code",
   "execution_count": null,
   "metadata": {
    "ExecuteTime": {
     "end_time": "2021-12-15T15:26:33.409112Z",
     "start_time": "2021-12-15T15:26:33.397144Z"
    }
   },
   "outputs": [],
   "source": [
    "import olca\n",
    "import pandas as pd\n",
    "pd.set_option('display.max_colwidth', None)\n",
    "\n",
    "client = olca.Client(8080)\n",
    "client "
   ]
  },
  {
   "cell_type": "markdown",
   "metadata": {},
   "source": [
    "# Exercise 2: Browse the Agribalyse database"
   ]
  },
  {
   "cell_type": "code",
   "execution_count": null,
   "metadata": {
    "ExecuteTime": {
     "end_time": "2021-12-15T15:26:43.508269Z",
     "start_time": "2021-12-15T15:26:41.755691Z"
    },
    "scrolled": true
   },
   "outputs": [],
   "source": [
    "descriptor = client.get_descriptors(olca.Flow)#Process)#ImpactMethod)\n",
    "elem_list = []\n",
    "id_list = []\n",
    "\n",
    "for elem in descriptor:\n",
    "    elem_list.append(elem.name)\n",
    "    id_list.append(elem.id)\n",
    "df_all_elem = pd.DataFrame(list(zip(elem_list,\n",
    "                                   id_list)),\n",
    "                               columns=['name', 'id'])\n",
    "df_all_elem "
   ]
  },
  {
   "cell_type": "code",
   "execution_count": null,
   "metadata": {
    "ExecuteTime": {
     "end_time": "2021-12-15T15:26:53.951975Z",
     "start_time": "2021-12-15T15:26:53.923066Z"
    },
    "scrolled": true
   },
   "outputs": [],
   "source": [
    "searcher = [elem for elem in df_all_elem['name'] if 'Tomato,' in elem\n",
    "              and not 'conventional' in elem\n",
    "           and 'dried' in elem]\n",
    "searcher"
   ]
  },
  {
   "cell_type": "code",
   "execution_count": null,
   "metadata": {
    "ExecuteTime": {
     "end_time": "2021-12-15T15:26:56.625915Z",
     "start_time": "2021-12-15T15:26:56.614945Z"
    }
   },
   "outputs": [],
   "source": [
    "searchstring1 = 'wheat'\n",
    "searchstring2 = 'flour'"
   ]
  },
  {
   "cell_type": "code",
   "execution_count": null,
   "metadata": {
    "ExecuteTime": {
     "end_time": "2021-12-15T15:26:57.036638Z",
     "start_time": "2021-12-15T15:26:56.948872Z"
    },
    "scrolled": true
   },
   "outputs": [],
   "source": [
    "df_all_elem[(df_all_elem['name'].str.contains(searchstring1, regex=False, case=False)) & \n",
    "            (df_all_elem['name'].str.contains(searchstring2, regex=False, case=False))]"
   ]
  },
  {
   "cell_type": "markdown",
   "metadata": {},
   "source": [
    "# Exercise 3: Creating new database elements"
   ]
  },
  {
   "cell_type": "code",
   "execution_count": null,
   "metadata": {
    "ExecuteTime": {
     "end_time": "2021-12-15T15:27:27.221469Z",
     "start_time": "2021-12-15T15:27:27.204478Z"
    }
   },
   "outputs": [],
   "source": [
    "from datetime import datetime"
   ]
  },
  {
   "cell_type": "markdown",
   "metadata": {},
   "source": [
    "## Creating a new categories / folders\n",
    "### Flow category"
   ]
  },
  {
   "cell_type": "code",
   "execution_count": null,
   "metadata": {
    "ExecuteTime": {
     "end_time": "2021-12-15T15:29:21.749612Z",
     "start_time": "2021-12-15T15:29:21.643507Z"
    }
   },
   "outputs": [],
   "source": [
    "new_cat = olca.Category()\n",
    "new_cat.olca_type = 'Category'\n",
    "new_cat.model_type = olca.ModelType['FLOW']\n",
    "new_cat.name = '1: Tutorial flows'\n",
    "client.insert(new_cat) "
   ]
  },
  {
   "cell_type": "code",
   "execution_count": null,
   "metadata": {
    "ExecuteTime": {
     "end_time": "2021-12-15T15:31:00.055512Z",
     "start_time": "2021-12-15T15:30:59.939826Z"
    }
   },
   "outputs": [],
   "source": [
    "descriptor = client.get_descriptors(olca.Category)\n",
    "instance_list = []\n",
    "uuid_list = []\n",
    "\n",
    "for element in descriptor:\n",
    "    instance_list.append(element.name)\n",
    "    uuid_list.append(element.id)\n",
    "instance_df = pd.DataFrame(list(zip(instance_list,\n",
    "                                   uuid_list)),\n",
    "                               columns=['NAME', 'UUID'])\n",
    "instance_df#.head(7)  \n",
    "\n",
    "cache = instance_df.loc[instance_df['NAME'] == '1: Tutorial flows']['UUID'].values[0]\n",
    "\n",
    "flow_cat = client.get(olca.Category, cache)\n",
    "flow_cat"
   ]
  },
  {
   "cell_type": "markdown",
   "metadata": {},
   "source": [
    "### Process category"
   ]
  },
  {
   "cell_type": "code",
   "execution_count": null,
   "metadata": {
    "ExecuteTime": {
     "end_time": "2021-12-15T15:31:38.843543Z",
     "start_time": "2021-12-15T15:31:38.826559Z"
    }
   },
   "outputs": [],
   "source": [
    "new_cat = olca.Category()\n",
    "new_cat.olca_type = 'Category'\n",
    "new_cat.model_type = olca.ModelType['PROCESS']\n",
    "new_cat.name = '1: Tutorial processes - pizza production'\n",
    "client.insert(new_cat) "
   ]
  },
  {
   "cell_type": "code",
   "execution_count": null,
   "metadata": {
    "ExecuteTime": {
     "end_time": "2021-12-15T15:32:03.147626Z",
     "start_time": "2021-12-15T15:32:03.051882Z"
    }
   },
   "outputs": [],
   "source": [
    "descriptor = client.get_descriptors(olca.Category)\n",
    "instance_list = []\n",
    "uuid_list = []\n",
    "\n",
    "for element in descriptor:\n",
    "    instance_list.append(element.name)\n",
    "    uuid_list.append(element.id)\n",
    "instance_df = pd.DataFrame(list(zip(instance_list,\n",
    "                                   uuid_list)),\n",
    "                               columns=['NAME', 'UUID'])\n",
    "instance_df#.head(7)  \n",
    "\n",
    "cache = instance_df.loc[instance_df['NAME'] == '1: Tutorial processes - pizza production']['UUID'].values[0]\n",
    "\n",
    "proc_cat = client.get(olca.Category, cache)\n",
    "proc_cat"
   ]
  },
  {
   "cell_type": "markdown",
   "metadata": {},
   "source": [
    "## Creating a new flow"
   ]
  },
  {
   "cell_type": "code",
   "execution_count": null,
   "metadata": {
    "ExecuteTime": {
     "end_time": "2021-12-15T15:29:26.622850Z",
     "start_time": "2021-12-15T15:29:26.554796Z"
    }
   },
   "outputs": [],
   "source": [
    "dt_object = datetime.fromtimestamp(datetime.timestamp(datetime.now()))\n",
    "\n",
    "noitems = client.find(olca.FlowProperty, 'Number of items')\n",
    "\n",
    "new_flow = olca.product_flow_of('pizza (tutorial)', noitems)\n",
    "new_flow.description = 'Added via olca-ipc on %s.' % (dt_object)\n",
    "new_flow.category = flow_cat\n",
    "client.insert(new_flow) "
   ]
  },
  {
   "cell_type": "code",
   "execution_count": null,
   "metadata": {
    "ExecuteTime": {
     "end_time": "2021-12-15T15:29:28.889744Z",
     "start_time": "2021-12-15T15:29:28.884752Z"
    }
   },
   "outputs": [],
   "source": [
    "new_flow"
   ]
  },
  {
   "cell_type": "code",
   "execution_count": null,
   "metadata": {
    "ExecuteTime": {
     "end_time": "2021-12-15T15:29:48.057291Z",
     "start_time": "2021-12-15T15:29:48.027370Z"
    }
   },
   "outputs": [],
   "source": [
    "mass = client.find(olca.FlowProperty, 'Mass')\n",
    "\n",
    "new_flow2 = olca.product_flow_of('pizza (tutorial, mass)', mass)\n",
    "new_flow2.description = 'Added via olca-ipc on %s.' % (dt_object)\n",
    "new_flow2.category = flow_cat\n",
    "client.insert(new_flow2)"
   ]
  },
  {
   "cell_type": "markdown",
   "metadata": {},
   "source": [
    "## Creating a new process"
   ]
  },
  {
   "cell_type": "code",
   "execution_count": null,
   "metadata": {
    "ExecuteTime": {
     "end_time": "2021-12-15T15:32:27.016227Z",
     "start_time": "2021-12-15T15:32:26.963344Z"
    }
   },
   "outputs": [],
   "source": [
    "dt_object = datetime.fromtimestamp(datetime.timestamp(datetime.now()))\n",
    "\n",
    "new_process = olca.process_of('pizza production (tutorial)')\n",
    "new_process.description = 'Added via olca-ipc on %s.' % (dt_object)\n",
    "new_process.category = proc_cat\n",
    "client.insert(new_process)"
   ]
  },
  {
   "cell_type": "markdown",
   "metadata": {},
   "source": [
    "## Creating new exchanges\n",
    "### Creating the quantitative reference (output)"
   ]
  },
  {
   "cell_type": "code",
   "execution_count": null,
   "metadata": {
    "ExecuteTime": {
     "end_time": "2021-12-15T15:38:13.613918Z",
     "start_time": "2021-12-15T15:38:13.500089Z"
    }
   },
   "outputs": [],
   "source": [
    "list_exchanges = []\n",
    "cache = client.get(olca.Flow, new_flow.id)\n",
    "new_exchange = olca.output_of(new_process, cache, 10)\n",
    "new_exchange.quantitative_reference = True\n",
    "list_exchanges.append(new_exchange)\n",
    "\n",
    "new_process.exchanges = list_exchanges\n",
    "client.update(new_process) "
   ]
  },
  {
   "cell_type": "code",
   "execution_count": null,
   "metadata": {
    "ExecuteTime": {
     "end_time": "2021-12-15T15:38:16.815241Z",
     "start_time": "2021-12-15T15:38:16.804236Z"
    }
   },
   "outputs": [],
   "source": [
    "list_exchanges "
   ]
  },
  {
   "cell_type": "markdown",
   "metadata": {},
   "source": [
    "### Reading in input-exchanges from prepared Excel-file"
   ]
  },
  {
   "cell_type": "code",
   "execution_count": null,
   "metadata": {
    "ExecuteTime": {
     "end_time": "2021-12-15T15:38:42.554978Z",
     "start_time": "2021-12-15T15:38:42.043475Z"
    }
   },
   "outputs": [],
   "source": [
    "df_pizza = pd.read_excel('pizza-process-characterization-tutorial.xlsx')\n",
    "df_pizza "
   ]
  },
  {
   "cell_type": "code",
   "execution_count": null,
   "metadata": {
    "ExecuteTime": {
     "end_time": "2021-12-15T15:38:50.901527Z",
     "start_time": "2021-12-15T15:38:50.579075Z"
    }
   },
   "outputs": [],
   "source": [
    "for index, row in df_pizza.iterrows():\n",
    "    cache = client.get(olca.Flow, row['flow'])\n",
    "    new_exchange = olca.input_of(new_process, cache, row['amount'])\n",
    "    new_exchange.default_provider = client.get(olca.Process, row['provider'])"
   ]
  },
  {
   "cell_type": "code",
   "execution_count": null,
   "metadata": {
    "ExecuteTime": {
     "end_time": "2021-12-15T15:38:51.565678Z",
     "start_time": "2021-12-15T15:38:51.556691Z"
    }
   },
   "outputs": [],
   "source": [
    "list_exchanges "
   ]
  },
  {
   "cell_type": "code",
   "execution_count": null,
   "metadata": {
    "ExecuteTime": {
     "end_time": "2021-12-15T15:38:59.644035Z",
     "start_time": "2021-12-15T15:38:59.251059Z"
    }
   },
   "outputs": [],
   "source": [
    "new_process.exchanges = list_exchanges\n",
    "client.update(new_process) "
   ]
  },
  {
   "cell_type": "markdown",
   "metadata": {},
   "source": [
    "## Creating a new parameter"
   ]
  },
  {
   "cell_type": "code",
   "execution_count": null,
   "metadata": {
    "ExecuteTime": {
     "end_time": "2021-12-15T15:39:52.242503Z",
     "start_time": "2021-12-15T15:39:51.795245Z"
    }
   },
   "outputs": [],
   "source": [
    "cheese_param = olca.parameter_of('cheese_kg', 2.5, olca.ParameterScope.PROCESS_SCOPE)\n",
    "\n",
    "new_process.parameters = [cheese_param]\n",
    "client.update(new_process) "
   ]
  },
  {
   "cell_type": "code",
   "execution_count": null,
   "metadata": {
    "ExecuteTime": {
     "end_time": "2021-12-15T15:40:08.696664Z",
     "start_time": "2021-12-15T15:40:08.324659Z"
    }
   },
   "outputs": [],
   "source": [
    "for ex in new_process.exchanges:\n",
    "    if ex.flow.name == 'Cheese production; from raw milk, hard cheese ; French production mix, at plant; 1 kg of hard cheese (PGi)':\n",
    "        ex.amount_formula = 'cheese_kg'\n",
    "client.update(new_process) "
   ]
  },
  {
   "cell_type": "markdown",
   "metadata": {},
   "source": [
    "## Create a new product system"
   ]
  },
  {
   "cell_type": "code",
   "execution_count": null,
   "metadata": {
    "ExecuteTime": {
     "end_time": "2021-12-15T15:40:29.771036Z",
     "start_time": "2021-12-15T15:40:22.018116Z"
    }
   },
   "outputs": [],
   "source": [
    "product_system = client.create_product_system(new_process.id,\n",
    "                                              default_providers='prefer',\n",
    "                                              preferred_type='UNIT_PROCESS') "
   ]
  },
  {
   "cell_type": "markdown",
   "metadata": {
    "ExecuteTime": {
     "end_time": "2021-06-24T12:44:21.366123Z",
     "start_time": "2021-06-24T12:44:21.348315Z"
    }
   },
   "source": [
    "# Exercise 4: Calculation\n",
    "## Simple calculation"
   ]
  },
  {
   "cell_type": "code",
   "execution_count": null,
   "metadata": {
    "ExecuteTime": {
     "end_time": "2021-12-15T15:42:26.148547Z",
     "start_time": "2021-12-15T15:42:20.098721Z"
    }
   },
   "outputs": [],
   "source": [
    "setup = olca.CalculationSetup()\n",
    "setup.calculation_type = olca.CalculationType.UPSTREAM_ANALYSIS\n",
    "setup.amount = 1\n",
    "setup.impact_method = client.find(olca.ImpactMethod, 'IPCC 2013 GWP 100a')\n",
    "setup.product_system = olca.ref(olca.ProductSystem,product_system.id)\n",
    "#setup.allocation_method = olca.AllocationType.PHYSICAL_ALLOCATION\n",
    "\n",
    "calc_result = client.calculate(setup)\n",
    "gwp = calc_result.impact_results[0].value\n",
    "print('The resulting GWP impact of making one pizza is %.2f kg CO2 eq.' % (gwp)) \n",
    "client.dispose(calc_result)  "
   ]
  },
  {
   "cell_type": "markdown",
   "metadata": {},
   "source": [
    "## With parameter redefinition"
   ]
  },
  {
   "cell_type": "code",
   "execution_count": null,
   "metadata": {
    "ExecuteTime": {
     "end_time": "2021-12-15T15:42:26.226774Z",
     "start_time": "2021-12-15T15:42:26.212369Z"
    }
   },
   "outputs": [],
   "source": [
    "redef_list = [1,1.5,2,2.5,3] "
   ]
  },
  {
   "cell_type": "code",
   "execution_count": null,
   "metadata": {
    "ExecuteTime": {
     "end_time": "2021-12-15T15:42:57.131933Z",
     "start_time": "2021-12-15T15:42:27.218777Z"
    }
   },
   "outputs": [],
   "source": [
    "setup = olca.CalculationSetup()\n",
    "setup.calculation_type = olca.CalculationType.UPSTREAM_ANALYSIS\n",
    "setup.amount = 1\n",
    "setup.impact_method = client.find(olca.ImpactMethod, 'IPCC 2013 GWP 100a')\n",
    "setup.product_system = olca.ref(olca.ProductSystem,product_system.id)\n",
    "\n",
    "\n",
    "result_category_list = []\n",
    "result_value_list = []\n",
    "result_unit_list = []\n",
    "\n",
    "for x in range(len(redef_list)):\n",
    "    redef = olca.ParameterRedef()\n",
    "    redef.name = 'cheese_kg'\n",
    "    redef.context = olca.ref(olca.Process, new_process.id)\n",
    "    redef.value = redef_list[x]\n",
    "    setup.parameter_redefs = [redef]\n",
    "    \n",
    "    calc_result = client.calculate(setup)\n",
    "    gwp = calc_result.impact_results[0].value\n",
    "    print('The resulting GWP impact of making a pizza with a cheese topping of %.2f kg,\\t equals %.2f kg CO2 eq.' % (redef.value / 10, gwp))\n",
    "    \n",
    "    result_category_list.append(calc_result.impact_results[0].impact_category.name)\n",
    "    result_value_list.append(calc_result.impact_results[0].value)\n",
    "    result_unit_list.append(calc_result.impact_results[0].impact_category.ref_unit)\n",
    "\n",
    "    client.dispose(calc_result) "
   ]
  },
  {
   "cell_type": "code",
   "execution_count": null,
   "metadata": {
    "ExecuteTime": {
     "end_time": "2021-12-16T08:57:14.608911Z",
     "start_time": "2021-12-16T08:57:14.527571Z"
    }
   },
   "outputs": [],
   "source": [
    "redef_list_per_pizza = list(map(lambda x: x/10, redef_list))\n",
    "redef_list_per_pizza "
   ]
  },
  {
   "cell_type": "code",
   "execution_count": null,
   "metadata": {
    "ExecuteTime": {
     "end_time": "2021-12-16T08:57:29.278395Z",
     "start_time": "2021-12-16T08:57:29.264433Z"
    }
   },
   "outputs": [],
   "source": [
    "df_results = pd.DataFrame(list(zip(redef_list_per_pizza,\n",
    "                                   result_value_list)),\n",
    "                               columns=['parameter value: cheese amount per pizza', 'GWP result'])\n",
    "\n",
    "df_results"
   ]
  },
  {
   "cell_type": "code",
   "execution_count": null,
   "metadata": {
    "ExecuteTime": {
     "end_time": "2021-12-16T08:58:25.151094Z",
     "start_time": "2021-12-16T08:58:24.399506Z"
    }
   },
   "outputs": [],
   "source": [
    "df_results.plot(x='parameter value: cheese amount per pizza', y='GWP result') "
   ]
  },
  {
   "cell_type": "code",
   "execution_count": null,
   "metadata": {},
   "outputs": [],
   "source": []
  }
 ],
 "metadata": {
  "hide_input": false,
  "kernelspec": {
   "display_name": "Python 3",
   "language": "python",
   "name": "python3"
  },
  "language_info": {
   "codemirror_mode": {
    "name": "ipython",
    "version": 3
   },
   "file_extension": ".py",
   "mimetype": "text/x-python",
   "name": "python",
   "nbconvert_exporter": "python",
   "pygments_lexer": "ipython3",
   "version": "3.8.10"
  },
  "toc": {
   "base_numbering": 1,
   "nav_menu": {},
   "number_sections": true,
   "sideBar": true,
   "skip_h1_title": false,
   "title_cell": "Table of Contents",
   "title_sidebar": "Contents",
   "toc_cell": false,
   "toc_position": {
    "height": "calc(100% - 180px)",
    "left": "10px",
    "top": "150px",
    "width": "384px"
   },
   "toc_section_display": true,
   "toc_window_display": true
  },
  "varInspector": {
   "cols": {
    "lenName": 16,
    "lenType": 16,
    "lenVar": 40
   },
   "kernels_config": {
    "python": {
     "delete_cmd_postfix": "",
     "delete_cmd_prefix": "del ",
     "library": "var_list.py",
     "varRefreshCmd": "print(var_dic_list())"
    },
    "r": {
     "delete_cmd_postfix": ") ",
     "delete_cmd_prefix": "rm(",
     "library": "var_list.r",
     "varRefreshCmd": "cat(var_dic_list()) "
    }
   },
   "types_to_exclude": [
    "module",
    "function",
    "builtin_function_or_method",
    "instance",
    "_Feature"
   ],
   "window_display": false
  }
 },
 "nbformat": 4,
 "nbformat_minor": 4
}
