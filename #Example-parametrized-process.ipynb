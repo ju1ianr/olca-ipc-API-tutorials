{
 "cells": [
  {
   "cell_type": "markdown",
   "metadata": {},
   "source": [
    "---\n",
    "![title](gdlogo.png)\n",
    "\n",
    "---\n",
    "\n",
    "This notebook serves as a thorough example of how to create a parametrized process via the olca ipc API. It includes:\n",
    "- creating a new (reference flow)\n",
    "- creating a new (empty) process\n",
    "- creating a new process input parameter\n",
    "- creating input and output exchanges, using the parameter embedded in a function as variable input\n",
    "- creating a product system\n",
    "- calculating the product system for different parameter redefinitions\n",
    "\n",
    "This notebook uses the publicly available ELCD 3.2 database (European reference Life Cycle Database, available at: "
   ]
  },
  {
   "cell_type": "code",
   "execution_count": 1,
   "metadata": {
    "ExecuteTime": {
     "end_time": "2020-12-02T09:08:38.137559Z",
     "start_time": "2020-12-02T09:08:38.117608Z"
    },
    "scrolled": false
   },
   "outputs": [
    {
     "data": {
      "text/html": [
       "\n",
       "        <iframe\n",
       "            width=\"950\"\n",
       "            height=\"500\"\n",
       "            src=\"https://nexus.openlca.org/database/ELCD\"\n",
       "            frameborder=\"0\"\n",
       "            allowfullscreen\n",
       "        ></iframe>\n",
       "        "
      ],
      "text/plain": [
       "<IPython.lib.display.IFrame at 0x2ccc4bb95c0>"
      ]
     },
     "execution_count": 1,
     "metadata": {},
     "output_type": "execute_result"
    }
   ],
   "source": [
    "from IPython.display import IFrame\n",
    "IFrame('https://nexus.openlca.org/database/ELCD', width=950, height=500)"
   ]
  },
  {
   "cell_type": "markdown",
   "metadata": {},
   "source": [
    "# Import"
   ]
  },
  {
   "cell_type": "code",
   "execution_count": 2,
   "metadata": {
    "ExecuteTime": {
     "end_time": "2020-12-02T09:08:40.144782Z",
     "start_time": "2020-12-02T09:08:39.684636Z"
    },
    "scrolled": true
   },
   "outputs": [
    {
     "data": {
      "text/plain": [
       "<olca.ipc.Client at 0x2ccc5c55518>"
      ]
     },
     "execution_count": 2,
     "metadata": {},
     "output_type": "execute_result"
    }
   ],
   "source": [
    "import pandas as pd\n",
    "pd.set_option('display.max_colwidth', None)\n",
    "import olca\n",
    "import uuid\n",
    "import math\n",
    "from datetime import datetime\n",
    "from itertools import chain\n",
    "\n",
    "from matplotlib import pyplot as plt\n",
    "\n",
    "params = {'mathtext.default': 'regular' }\n",
    "\n",
    "client = olca.Client(8080)\n",
    "client "
   ]
  },
  {
   "cell_type": "markdown",
   "metadata": {},
   "source": [
    "# Example: parametrized process\n",
    "\n",
    "---\n",
    "Let's assume, a process for machining steel sections has the following behavior: the **Material Removal Rate, MRR [mm³/s]** has direct influence on the **Specific Energy, SE [J/mm³]** demand of the machining.\n",
    "The process can be described like this ... or with the function:\n",
    "\n",
    "$SE = 160 * MRR^{-0.5}$"
   ]
  },
  {
   "cell_type": "code",
   "execution_count": 3,
   "metadata": {
    "ExecuteTime": {
     "end_time": "2020-12-02T09:08:40.847343Z",
     "start_time": "2020-12-02T09:08:40.709707Z"
    },
    "scrolled": true
   },
   "outputs": [
    {
     "data": {
      "text/plain": [
       "<AxesSubplot:xlabel='MRR [mm³/s]'>"
      ]
     },
     "execution_count": 3,
     "metadata": {},
     "output_type": "execute_result"
    },
    {
     "data": {
      "image/png": "[encoded data removed]",
      "text/plain": [
       "<Figure size 432x288 with 1 Axes>"
      ]
     },
     "metadata": {
      "needs_background": "light"
     },
     "output_type": "display_data"
    }
   ],
   "source": [
    "MRR_list = list(range(1, 251, 5))\n",
    "SE_list = [160 * element**(-0.5) for element in MRR_list]\n",
    "\n",
    "df_MRR = pd.DataFrame({'MRR [mm³/s]': MRR_list, 'SE [J/mm³]': SE_list })\n",
    "\n",
    "df_MRR.plot(x='MRR [mm³/s]', y='SE [J/mm³]') "
   ]
  },
  {
   "cell_type": "markdown",
   "metadata": {},
   "source": [
    "and the objective is, to build a process, which represents the machining of 50,000 mm³ = 50 cm³ (~ 393,5 g of steel). Therefore, the **Electricity Demand, ED [MJ]** can be expressed with the following formula:\n",
    "\n",
    "$ED = 8 * MRR^{-0.5}$\n",
    "\n",
    "In the following, this notebook creates a process, which uses MRR as an input parameter for setting the electricity demand as presented in the formula above."
   ]
  },
  {
   "cell_type": "markdown",
   "metadata": {},
   "source": [
    "## Process description\n",
    "---\n",
    "The following notebook is intended to  create a process in the active openLCA database with the following characteristics:\n",
    "(The amount for electricity is a placeholder for now.)"
   ]
  },
  {
   "cell_type": "code",
   "execution_count": 4,
   "metadata": {
    "ExecuteTime": {
     "end_time": "2020-12-02T09:08:42.437514Z",
     "start_time": "2020-12-02T09:08:42.389799Z"
    }
   },
   "outputs": [
    {
     "data": {
      "text/html": [
       "<div>\n",
       "<style scoped>\n",
       "    .dataframe tbody tr th:only-of-type {\n",
       "        vertical-align: middle;\n",
       "    }\n",
       "\n",
       "    .dataframe tbody tr th {\n",
       "        vertical-align: top;\n",
       "    }\n",
       "\n",
       "    .dataframe thead th {\n",
       "        text-align: right;\n",
       "    }\n",
       "</style>\n",
       "<table border=\"1\" class=\"dataframe\">\n",
       "  <thead>\n",
       "    <tr style=\"text-align: right;\">\n",
       "      <th></th>\n",
       "      <th>in/out</th>\n",
       "      <th>flow</th>\n",
       "      <th>amount</th>\n",
       "      <th>unit</th>\n",
       "      <th>ref flow</th>\n",
       "      <th>provider</th>\n",
       "    </tr>\n",
       "  </thead>\n",
       "  <tbody>\n",
       "    <tr>\n",
       "      <th>0</th>\n",
       "      <td>in</td>\n",
       "      <td>Steel sections</td>\n",
       "      <td>1</td>\n",
       "      <td>kg</td>\n",
       "      <td>False</td>\n",
       "      <td>09d61948-238a-40e7-8e1f-afdc0c98f902</td>\n",
       "    </tr>\n",
       "    <tr>\n",
       "      <th>1</th>\n",
       "      <td>in</td>\n",
       "      <td>Electricity</td>\n",
       "      <td>8*MRR^(-0.5)</td>\n",
       "      <td>MJ</td>\n",
       "      <td>False</td>\n",
       "      <td>7e00d0fc-473a-4c90-89e5-0a586010bf31</td>\n",
       "    </tr>\n",
       "    <tr>\n",
       "      <th>2</th>\n",
       "      <td>out</td>\n",
       "      <td>Steel scrap</td>\n",
       "      <td>0.3935</td>\n",
       "      <td>kg</td>\n",
       "      <td>False</td>\n",
       "      <td>11f67def-dc2a-4e74-bb4f-885610a9ae9c</td>\n",
       "    </tr>\n",
       "    <tr>\n",
       "      <th>3</th>\n",
       "      <td>out</td>\n",
       "      <td>machined steel section</td>\n",
       "      <td>0.6065</td>\n",
       "      <td>kg</td>\n",
       "      <td>True</td>\n",
       "      <td></td>\n",
       "    </tr>\n",
       "  </tbody>\n",
       "</table>\n",
       "</div>"
      ],
      "text/plain": [
       "  in/out                    flow        amount unit  ref flow  \\\n",
       "0     in          Steel sections             1   kg     False   \n",
       "1     in             Electricity  8*MRR^(-0.5)   MJ     False   \n",
       "2    out             Steel scrap        0.3935   kg     False   \n",
       "3    out  machined steel section        0.6065   kg      True   \n",
       "\n",
       "                               provider  \n",
       "0  09d61948-238a-40e7-8e1f-afdc0c98f902  \n",
       "1  7e00d0fc-473a-4c90-89e5-0a586010bf31  \n",
       "2  11f67def-dc2a-4e74-bb4f-885610a9ae9c  \n",
       "3                                        "
      ]
     },
     "execution_count": 4,
     "metadata": {},
     "output_type": "execute_result"
    }
   ],
   "source": [
    "df_process_char = pd.DataFrame({'in/out': ['in', 'in', 'out', 'out'],\n",
    "                                'flow': ['Steel sections', 'Electricity', 'Steel scrap', 'machined steel section'],\n",
    "                                'amount':[1, '8*MRR^(-0.5)', 0.3935, 0.6065],\n",
    "                                'unit': ['kg', 'MJ', 'kg', 'kg'],\n",
    "                                'ref flow': [False, False, False, True],\n",
    "                                'provider': ['09d61948-238a-40e7-8e1f-afdc0c98f902', '7e00d0fc-473a-4c90-89e5-0a586010bf31', '11f67def-dc2a-4e74-bb4f-885610a9ae9c', '']\n",
    "                               })\n",
    "df_process_char "
   ]
  },
  {
   "cell_type": "markdown",
   "metadata": {},
   "source": [
    "----\n",
    "\n",
    "## Creating a new output flow"
   ]
  },
  {
   "cell_type": "code",
   "execution_count": 5,
   "metadata": {
    "ExecuteTime": {
     "end_time": "2020-12-02T09:08:43.461371Z",
     "start_time": "2020-12-02T09:08:43.421662Z"
    }
   },
   "outputs": [
    {
     "data": {
      "text/plain": [
       "'ok'"
      ]
     },
     "execution_count": 5,
     "metadata": {},
     "output_type": "execute_result"
    }
   ],
   "source": [
    "dt_object = datetime.fromtimestamp(datetime.timestamp(datetime.now()))\n",
    "\n",
    "\n",
    "mass = client.find(olca.FlowProperty, 'Mass')\n",
    "\n",
    "new_flow = olca.product_flow_of('machined steel section', mass)\n",
    "new_flow.description = 'Added via olca-ipc on %s.' % (dt_object)\n",
    "client.insert(new_flow) "
   ]
  },
  {
   "cell_type": "markdown",
   "metadata": {},
   "source": [
    "## Creating a new (empty) process"
   ]
  },
  {
   "cell_type": "code",
   "execution_count": 6,
   "metadata": {
    "ExecuteTime": {
     "end_time": "2020-12-02T09:08:44.468684Z",
     "start_time": "2020-12-02T09:08:44.452693Z"
    }
   },
   "outputs": [
    {
     "data": {
      "text/plain": [
       "'ok'"
      ]
     },
     "execution_count": 6,
     "metadata": {},
     "output_type": "execute_result"
    }
   ],
   "source": [
    "dt_object = datetime.fromtimestamp(datetime.timestamp(datetime.now()))\n",
    "\n",
    "new_process = olca.process_of('Machining steel sections, removing 50 cm³ (parametrized)')\n",
    "new_process.description = 'Added via olca-ipc on %s.' % (dt_object)\n",
    "client.insert(new_process)"
   ]
  },
  {
   "cell_type": "markdown",
   "metadata": {},
   "source": [
    "## Creating a new parameter"
   ]
  },
  {
   "cell_type": "code",
   "execution_count": 7,
   "metadata": {
    "ExecuteTime": {
     "end_time": "2020-12-02T09:08:45.442289Z",
     "start_time": "2020-12-02T09:08:45.397859Z"
    }
   },
   "outputs": [
    {
     "data": {
      "text/plain": [
       "'ok'"
      ]
     },
     "execution_count": 7,
     "metadata": {},
     "output_type": "execute_result"
    }
   ],
   "source": [
    "# inserting a new parameter into the process\n",
    "\n",
    "MRR = olca.parameter_of('MRR', 1, olca.ParameterScope.PROCESS_SCOPE)\n",
    "\n",
    "new_process.parameters = [MRR]\n",
    "client.update(new_process) "
   ]
  },
  {
   "cell_type": "markdown",
   "metadata": {},
   "source": [
    "## Creating input & output exchanges"
   ]
  },
  {
   "cell_type": "code",
   "execution_count": 8,
   "metadata": {
    "ExecuteTime": {
     "end_time": "2020-12-02T09:08:52.804424Z",
     "start_time": "2020-12-02T09:08:46.445545Z"
    },
    "scrolled": false
   },
   "outputs": [
    {
     "data": {
      "text/html": [
       "<div>\n",
       "<style scoped>\n",
       "    .dataframe tbody tr th:only-of-type {\n",
       "        vertical-align: middle;\n",
       "    }\n",
       "\n",
       "    .dataframe tbody tr th {\n",
       "        vertical-align: top;\n",
       "    }\n",
       "\n",
       "    .dataframe thead th {\n",
       "        text-align: right;\n",
       "    }\n",
       "</style>\n",
       "<table border=\"1\" class=\"dataframe\">\n",
       "  <thead>\n",
       "    <tr style=\"text-align: right;\">\n",
       "      <th></th>\n",
       "      <th>in/out</th>\n",
       "      <th>flow</th>\n",
       "      <th>amount</th>\n",
       "      <th>unit</th>\n",
       "      <th>ref flow</th>\n",
       "      <th>id</th>\n",
       "      <th>provider</th>\n",
       "    </tr>\n",
       "  </thead>\n",
       "  <tbody>\n",
       "    <tr>\n",
       "      <th>0</th>\n",
       "      <td>in</td>\n",
       "      <td>Steel sections</td>\n",
       "      <td>1</td>\n",
       "      <td>kg</td>\n",
       "      <td>False</td>\n",
       "      <td>f46cd45b-b457-41f3-bd08-1ab41bd796e5</td>\n",
       "      <td>09d61948-238a-40e7-8e1f-afdc0c98f902</td>\n",
       "    </tr>\n",
       "    <tr>\n",
       "      <th>1</th>\n",
       "      <td>in</td>\n",
       "      <td>Electricity</td>\n",
       "      <td>8*MRR^(-0.5)</td>\n",
       "      <td>MJ</td>\n",
       "      <td>False</td>\n",
       "      <td>890a70b7-b677-4e2a-8a1b-7d017e0a10ae</td>\n",
       "      <td>7e00d0fc-473a-4c90-89e5-0a586010bf31</td>\n",
       "    </tr>\n",
       "    <tr>\n",
       "      <th>2</th>\n",
       "      <td>out</td>\n",
       "      <td>Steel scrap</td>\n",
       "      <td>0.3935</td>\n",
       "      <td>kg</td>\n",
       "      <td>False</td>\n",
       "      <td>55a81a3f-4639-4be6-99a0-22586cbc1e84</td>\n",
       "      <td>11f67def-dc2a-4e74-bb4f-885610a9ae9c</td>\n",
       "    </tr>\n",
       "    <tr>\n",
       "      <th>3</th>\n",
       "      <td>out</td>\n",
       "      <td>machined steel section</td>\n",
       "      <td>0.6065</td>\n",
       "      <td>kg</td>\n",
       "      <td>True</td>\n",
       "      <td>ee652808-6117-42de-b599-9e9d29ab3449</td>\n",
       "      <td></td>\n",
       "    </tr>\n",
       "  </tbody>\n",
       "</table>\n",
       "</div>"
      ],
      "text/plain": [
       "  in/out                    flow        amount unit  ref flow  \\\n",
       "0     in          Steel sections             1   kg     False   \n",
       "1     in             Electricity  8*MRR^(-0.5)   MJ     False   \n",
       "2    out             Steel scrap        0.3935   kg     False   \n",
       "3    out  machined steel section        0.6065   kg      True   \n",
       "\n",
       "                                     id                              provider  \n",
       "0  f46cd45b-b457-41f3-bd08-1ab41bd796e5  09d61948-238a-40e7-8e1f-afdc0c98f902  \n",
       "1  890a70b7-b677-4e2a-8a1b-7d017e0a10ae  7e00d0fc-473a-4c90-89e5-0a586010bf31  \n",
       "2  55a81a3f-4639-4be6-99a0-22586cbc1e84  11f67def-dc2a-4e74-bb4f-885610a9ae9c  \n",
       "3  ee652808-6117-42de-b599-9e9d29ab3449                                        "
      ]
     },
     "execution_count": 8,
     "metadata": {},
     "output_type": "execute_result"
    }
   ],
   "source": [
    "#finding the flow ids, also for the newly created flow ...\n",
    "\n",
    "target_refs = []\n",
    "\n",
    "for index, row in df_process_char.iterrows():\n",
    "    all_obj = client.get_descriptors(olca.Flow)\n",
    "    cache = [obj for obj in all_obj if df_process_char['flow'][index] == obj.name]\n",
    "    target_refs.append(cache)\n",
    "target_refs = list(chain(*target_refs))    #de-nesting list\n",
    "\n",
    "target_names = [obj.name for obj in target_refs]\n",
    "target_ids = [obj.id for obj in target_refs]\n",
    "\n",
    "flow_df = pd.DataFrame(list(zip(target_names, target_ids)), columns = ['name', 'id'])\n",
    "#flow_df\n",
    "\n",
    "#adding flow ids to the original table\n",
    "\n",
    "df_process_char = pd.concat([df_process_char , flow_df['id']], axis=1)\n",
    "df_process_char = df_process_char[['in/out', 'flow', 'amount', 'unit', 'ref flow', 'id', 'provider']]\n",
    "df_process_char"
   ]
  },
  {
   "cell_type": "code",
   "execution_count": 9,
   "metadata": {
    "ExecuteTime": {
     "end_time": "2020-12-02T09:08:53.808705Z",
     "start_time": "2020-12-02T09:08:53.158517Z"
    }
   },
   "outputs": [
    {
     "data": {
      "text/plain": [
       "[<olca.schema.Exchange at 0x2ccc8ac1940>,\n",
       " <olca.schema.Exchange at 0x2ccc7ec82e8>,\n",
       " <olca.schema.Exchange at 0x2cccc59bda0>,\n",
       " <olca.schema.Exchange at 0x2ccc8af1128>]"
      ]
     },
     "execution_count": 9,
     "metadata": {},
     "output_type": "execute_result"
    }
   ],
   "source": [
    "#creating a list of exchange objects\n",
    "\n",
    "list_exchanges = []\n",
    "\n",
    "for index, row in df_process_char.iterrows():\n",
    "    cache = client.get(olca.Flow, row['id'])\n",
    "    \n",
    "    if row['in/out'] == 'in':\n",
    "        new_exchange = olca.input_of(new_process, cache, row['amount'])\n",
    "    elif row['in/out'] == 'out':\n",
    "        new_exchange = olca.output_of(new_process, cache, row['amount'])\n",
    "    \n",
    "    if row['ref flow'] == True:\n",
    "        new_exchange.quantitative_reference = True\n",
    "    elif row['ref flow'] == False:\n",
    "        new_exchange.default_provider = client.get(olca.Process, row['provider'])\n",
    "        \n",
    "    list_exchanges.append(new_exchange)\n",
    "\n",
    "list_exchanges "
   ]
  },
  {
   "cell_type": "code",
   "execution_count": 10,
   "metadata": {
    "ExecuteTime": {
     "end_time": "2020-12-02T09:08:54.669609Z",
     "start_time": "2020-12-02T09:08:54.557679Z"
    }
   },
   "outputs": [
    {
     "data": {
      "text/plain": [
       "'ok'"
      ]
     },
     "execution_count": 10,
     "metadata": {},
     "output_type": "execute_result"
    }
   ],
   "source": [
    "# inserting the list of exchanges / updating the new process \n",
    "\n",
    "new_process.exchanges = list_exchanges\n",
    "client.update(new_process) "
   ]
  },
  {
   "cell_type": "markdown",
   "metadata": {},
   "source": [
    "## Creating a new product system"
   ]
  },
  {
   "cell_type": "code",
   "execution_count": 11,
   "metadata": {
    "ExecuteTime": {
     "end_time": "2020-12-02T09:08:56.335658Z",
     "start_time": "2020-12-02T09:08:56.285777Z"
    },
    "scrolled": true
   },
   "outputs": [
    {
     "data": {
      "text/html": [
       "<div>\n",
       "<style scoped>\n",
       "    .dataframe tbody tr th:only-of-type {\n",
       "        vertical-align: middle;\n",
       "    }\n",
       "\n",
       "    .dataframe tbody tr th {\n",
       "        vertical-align: top;\n",
       "    }\n",
       "\n",
       "    .dataframe thead th {\n",
       "        text-align: right;\n",
       "    }\n",
       "</style>\n",
       "<table border=\"1\" class=\"dataframe\">\n",
       "  <thead>\n",
       "    <tr style=\"text-align: right;\">\n",
       "      <th></th>\n",
       "      <th>name</th>\n",
       "      <th>id</th>\n",
       "    </tr>\n",
       "  </thead>\n",
       "  <tbody>\n",
       "    <tr>\n",
       "      <th>0</th>\n",
       "      <td>Electricity Mix, consumption mix, at consumer, AC, 230-240V</td>\n",
       "      <td>00043bd2-4563-4d73-8df8-b84b5d8902fc</td>\n",
       "    </tr>\n",
       "    <tr>\n",
       "      <th>1</th>\n",
       "      <td>Process steam from natural gas, consumption mix, at plant, heat plant, MJ</td>\n",
       "      <td>00174864-910e-4952-8f02-6ea3a2efa77b</td>\n",
       "    </tr>\n",
       "    <tr>\n",
       "      <th>2</th>\n",
       "      <td>Electricity Mix, consumption mix, at consumer, AC, &lt; 1kV</td>\n",
       "      <td>001b3cb7-b868-4061-8a91-3e6d7bcc90c6</td>\n",
       "    </tr>\n",
       "    <tr>\n",
       "      <th>3</th>\n",
       "      <td>Process steam from Light fuel oil 90%, consumption mix, at power plant, heat plant, MJ, 90 % efficiency</td>\n",
       "      <td>00f9cd63-cba5-4c94-ade3-a4248a9b9dc2</td>\n",
       "    </tr>\n",
       "    <tr>\n",
       "      <th>4</th>\n",
       "      <td>Polyethylene terephthalate (PET) granulate, production mix, at plant, amorphous</td>\n",
       "      <td>028b2915-00a5-4967-b356-34bce19960c3</td>\n",
       "    </tr>\n",
       "    <tr>\n",
       "      <th>...</th>\n",
       "      <td>...</td>\n",
       "      <td>...</td>\n",
       "    </tr>\n",
       "    <tr>\n",
       "      <th>604</th>\n",
       "      <td>Dummy_Steel scrap (external supply)</td>\n",
       "      <td>34f2d06e-8bfe-4af0-bf23-3e01c73bb7b1</td>\n",
       "    </tr>\n",
       "    <tr>\n",
       "      <th>605</th>\n",
       "      <td>Dummy_EAF Dust</td>\n",
       "      <td>168babaf-191e-4872-b2ff-d62dc39fff62</td>\n",
       "    </tr>\n",
       "    <tr>\n",
       "      <th>606</th>\n",
       "      <td>Dummy_Refractory</td>\n",
       "      <td>00904c02-6e6c-4fe9-a0dd-93fd05dbc018</td>\n",
       "    </tr>\n",
       "    <tr>\n",
       "      <th>607</th>\n",
       "      <td>Dummy_Refractory</td>\n",
       "      <td>e0cb4d39-d74d-4f6f-8b82-80ebbe6dea67</td>\n",
       "    </tr>\n",
       "    <tr>\n",
       "      <th>608</th>\n",
       "      <td>Machining steel sections, removing 50 cm³ (parametrized)</td>\n",
       "      <td>45e50d6b-3073-4db1-a2c4-d75ffeb987c4</td>\n",
       "    </tr>\n",
       "  </tbody>\n",
       "</table>\n",
       "<p>609 rows × 2 columns</p>\n",
       "</div>"
      ],
      "text/plain": [
       "                                                                                                        name  \\\n",
       "0                                                Electricity Mix, consumption mix, at consumer, AC, 230-240V   \n",
       "1                                  Process steam from natural gas, consumption mix, at plant, heat plant, MJ   \n",
       "2                                                   Electricity Mix, consumption mix, at consumer, AC, < 1kV   \n",
       "3    Process steam from Light fuel oil 90%, consumption mix, at power plant, heat plant, MJ, 90 % efficiency   \n",
       "4                            Polyethylene terephthalate (PET) granulate, production mix, at plant, amorphous   \n",
       "..                                                                                                       ...   \n",
       "604                                                                      Dummy_Steel scrap (external supply)   \n",
       "605                                                                                           Dummy_EAF Dust   \n",
       "606                                                                                         Dummy_Refractory   \n",
       "607                                                                                         Dummy_Refractory   \n",
       "608                                                 Machining steel sections, removing 50 cm³ (parametrized)   \n",
       "\n",
       "                                       id  \n",
       "0    00043bd2-4563-4d73-8df8-b84b5d8902fc  \n",
       "1    00174864-910e-4952-8f02-6ea3a2efa77b  \n",
       "2    001b3cb7-b868-4061-8a91-3e6d7bcc90c6  \n",
       "3    00f9cd63-cba5-4c94-ade3-a4248a9b9dc2  \n",
       "4    028b2915-00a5-4967-b356-34bce19960c3  \n",
       "..                                    ...  \n",
       "604  34f2d06e-8bfe-4af0-bf23-3e01c73bb7b1  \n",
       "605  168babaf-191e-4872-b2ff-d62dc39fff62  \n",
       "606  00904c02-6e6c-4fe9-a0dd-93fd05dbc018  \n",
       "607  e0cb4d39-d74d-4f6f-8b82-80ebbe6dea67  \n",
       "608  45e50d6b-3073-4db1-a2c4-d75ffeb987c4  \n",
       "\n",
       "[609 rows x 2 columns]"
      ]
     },
     "execution_count": 11,
     "metadata": {},
     "output_type": "execute_result"
    }
   ],
   "source": [
    "process_descriptor = client.get_descriptors(olca.Process)\n",
    "process_list = []\n",
    "id_list = []\n",
    "\n",
    "for process in process_descriptor:\n",
    "    process_list.append(process.name)\n",
    "    id_list.append(process.id)\n",
    "\n",
    "processes_df = pd.DataFrame(list(zip(process_list,\n",
    "                                   id_list)),\n",
    "                            columns=['name', 'id'])\n",
    "processes_df"
   ]
  },
  {
   "cell_type": "code",
   "execution_count": 12,
   "metadata": {
    "ExecuteTime": {
     "end_time": "2020-12-02T09:08:58.481496Z",
     "start_time": "2020-12-02T09:08:57.558617Z"
    }
   },
   "outputs": [],
   "source": [
    "product_system = client.create_product_system(processes_df['id'][processes_df.last_valid_index()],\n",
    "                                              default_providers='prefer',\n",
    "                                              preferred_type='UNIT_PROCESS')"
   ]
  },
  {
   "cell_type": "code",
   "execution_count": 13,
   "metadata": {
    "ExecuteTime": {
     "end_time": "2020-12-02T09:08:59.121599Z",
     "start_time": "2020-12-02T09:08:59.102622Z"
    }
   },
   "outputs": [
    {
     "data": {
      "text/plain": [
       "'00abf302-18bd-4971-90e4-68ed04ac4865'"
      ]
     },
     "execution_count": 13,
     "metadata": {},
     "output_type": "execute_result"
    }
   ],
   "source": [
    "psID = product_system.id\n",
    "psID"
   ]
  },
  {
   "cell_type": "markdown",
   "metadata": {},
   "source": [
    "## Calculation"
   ]
  },
  {
   "cell_type": "code",
   "execution_count": 14,
   "metadata": {
    "ExecuteTime": {
     "end_time": "2020-12-02T09:09:00.817728Z",
     "start_time": "2020-12-02T09:09:00.813711Z"
    }
   },
   "outputs": [],
   "source": [
    "redef_list = [1,5,25,50,100,150,200,250]"
   ]
  },
  {
   "cell_type": "code",
   "execution_count": 15,
   "metadata": {
    "ExecuteTime": {
     "end_time": "2020-12-02T09:09:18.794368Z",
     "start_time": "2020-12-02T09:09:02.173943Z"
    }
   },
   "outputs": [
    {
     "name": "stdout",
     "output_type": "stream",
     "text": [
      "MRR is 1.00,\t resulting GWP impact is 8.70 kg CO2 eq.\n",
      "MRR is 5.00,\t resulting GWP impact is 4.78 kg CO2 eq.\n",
      "MRR is 25.00,\t resulting GWP impact is 3.02 kg CO2 eq.\n",
      "MRR is 50.00,\t resulting GWP impact is 2.60 kg CO2 eq.\n",
      "MRR is 100.00,\t resulting GWP impact is 2.31 kg CO2 eq.\n",
      "MRR is 150.00,\t resulting GWP impact is 2.18 kg CO2 eq.\n",
      "MRR is 200.00,\t resulting GWP impact is 2.10 kg CO2 eq.\n",
      "MRR is 250.00,\t resulting GWP impact is 2.05 kg CO2 eq.\n"
     ]
    }
   ],
   "source": [
    "setup = olca.CalculationSetup()\n",
    "setup.calculation_type = olca.CalculationType.UPSTREAM_ANALYSIS\n",
    "setup.amount = 0.6065\n",
    "setup.impact_method = client.find(olca.ImpactMethod, 'IPCC 2013 GWP 100a')\n",
    "setup.product_system = client.find(olca.ProductSystem, processes_df['name'][processes_df.last_valid_index()])\n",
    "\n",
    "\n",
    "result_category_list =[]\n",
    "result_value_list = []\n",
    "result_unit_list = []\n",
    "\n",
    "for x in range(len(redef_list)):\n",
    "    redef = olca.ParameterRedef()\n",
    "    redef.name = 'MRR'\n",
    "    redef.context = olca.ref(olca.Process, processes_df['id'][processes_df.last_valid_index()])\n",
    "    redef.value = redef_list[x]\n",
    "    setup.parameter_redefs = [redef]\n",
    "    calc_result = client.calculate(setup)\n",
    "    gwp = calc_result.impact_results[0].value\n",
    "    print('MRR is %.2f,\\t resulting GWP impact is %.2f kg CO2 eq.' % (redef.value, gwp))\n",
    "    \n",
    "    result_category_list.append(calc_result.impact_results[0].impact_category.name)\n",
    "    result_value_list.append(calc_result.impact_results[0].value)\n",
    "    result_unit_list.append(calc_result.impact_results[0].impact_category.ref_unit)\n",
    "\n",
    "    client.dispose(calc_result)\n",
    "    "
   ]
  },
  {
   "cell_type": "code",
   "execution_count": 16,
   "metadata": {
    "ExecuteTime": {
     "end_time": "2020-12-02T09:09:18.934517Z",
     "start_time": "2020-12-02T09:09:18.919787Z"
    }
   },
   "outputs": [
    {
     "data": {
      "text/html": [
       "<div>\n",
       "<style scoped>\n",
       "    .dataframe tbody tr th:only-of-type {\n",
       "        vertical-align: middle;\n",
       "    }\n",
       "\n",
       "    .dataframe tbody tr th {\n",
       "        vertical-align: top;\n",
       "    }\n",
       "\n",
       "    .dataframe thead th {\n",
       "        text-align: right;\n",
       "    }\n",
       "</style>\n",
       "<table border=\"1\" class=\"dataframe\">\n",
       "  <thead>\n",
       "    <tr style=\"text-align: right;\">\n",
       "      <th></th>\n",
       "      <th>MRR [mm³/s]</th>\n",
       "      <th>category</th>\n",
       "      <th>CC impact [kg CO2e]</th>\n",
       "      <th>unit</th>\n",
       "    </tr>\n",
       "  </thead>\n",
       "  <tbody>\n",
       "    <tr>\n",
       "      <th>0</th>\n",
       "      <td>1</td>\n",
       "      <td>IPCC GWP 100a</td>\n",
       "      <td>8.704251</td>\n",
       "      <td>kg CO2 eq</td>\n",
       "    </tr>\n",
       "    <tr>\n",
       "      <th>1</th>\n",
       "      <td>5</td>\n",
       "      <td>IPCC GWP 100a</td>\n",
       "      <td>4.777069</td>\n",
       "      <td>kg CO2 eq</td>\n",
       "    </tr>\n",
       "    <tr>\n",
       "      <th>2</th>\n",
       "      <td>25</td>\n",
       "      <td>IPCC GWP 100a</td>\n",
       "      <td>3.020780</td>\n",
       "      <td>kg CO2 eq</td>\n",
       "    </tr>\n",
       "    <tr>\n",
       "      <th>3</th>\n",
       "      <td>50</td>\n",
       "      <td>IPCC GWP 100a</td>\n",
       "      <td>2.604617</td>\n",
       "      <td>kg CO2 eq</td>\n",
       "    </tr>\n",
       "    <tr>\n",
       "      <th>4</th>\n",
       "      <td>100</td>\n",
       "      <td>IPCC GWP 100a</td>\n",
       "      <td>2.310346</td>\n",
       "      <td>kg CO2 eq</td>\n",
       "    </tr>\n",
       "    <tr>\n",
       "      <th>5</th>\n",
       "      <td>150</td>\n",
       "      <td>IPCC GWP 100a</td>\n",
       "      <td>2.179979</td>\n",
       "      <td>kg CO2 eq</td>\n",
       "    </tr>\n",
       "    <tr>\n",
       "      <th>6</th>\n",
       "      <td>200</td>\n",
       "      <td>IPCC GWP 100a</td>\n",
       "      <td>2.102265</td>\n",
       "      <td>kg CO2 eq</td>\n",
       "    </tr>\n",
       "    <tr>\n",
       "      <th>7</th>\n",
       "      <td>250</td>\n",
       "      <td>IPCC GWP 100a</td>\n",
       "      <td>2.049230</td>\n",
       "      <td>kg CO2 eq</td>\n",
       "    </tr>\n",
       "  </tbody>\n",
       "</table>\n",
       "</div>"
      ],
      "text/plain": [
       "   MRR [mm³/s]       category  CC impact [kg CO2e]       unit\n",
       "0            1  IPCC GWP 100a             8.704251  kg CO2 eq\n",
       "1            5  IPCC GWP 100a             4.777069  kg CO2 eq\n",
       "2           25  IPCC GWP 100a             3.020780  kg CO2 eq\n",
       "3           50  IPCC GWP 100a             2.604617  kg CO2 eq\n",
       "4          100  IPCC GWP 100a             2.310346  kg CO2 eq\n",
       "5          150  IPCC GWP 100a             2.179979  kg CO2 eq\n",
       "6          200  IPCC GWP 100a             2.102265  kg CO2 eq\n",
       "7          250  IPCC GWP 100a             2.049230  kg CO2 eq"
      ]
     },
     "execution_count": 16,
     "metadata": {},
     "output_type": "execute_result"
    }
   ],
   "source": [
    "df_results = pd.DataFrame(list(zip(redef_list,\n",
    "                                   result_category_list,\n",
    "                                   result_value_list,\n",
    "                                   result_unit_list)),\n",
    "                          columns=['MRR [mm³/s]',\n",
    "                                   'category', 'CC impact [kg CO2e]', 'unit'])\n",
    "df_results"
   ]
  },
  {
   "cell_type": "code",
   "execution_count": 17,
   "metadata": {
    "ExecuteTime": {
     "end_time": "2020-12-02T09:09:19.215482Z",
     "start_time": "2020-12-02T09:09:19.090783Z"
    }
   },
   "outputs": [
    {
     "data": {
      "text/plain": [
       "<AxesSubplot:xlabel='MRR [mm³/s]'>"
      ]
     },
     "execution_count": 17,
     "metadata": {},
     "output_type": "execute_result"
    },
    {
     "data": {
      "image/png": "[encoded data removed]",
      "text/plain": [
       "<Figure size 432x288 with 1 Axes>"
      ]
     },
     "metadata": {
      "needs_background": "light"
     },
     "output_type": "display_data"
    }
   ],
   "source": [
    "df_final = df_results.drop(['category', 'unit'], axis=1)\n",
    "\n",
    "df_final.plot(x='MRR [mm³/s]', y='CC impact [kg CO2e]')"
   ]
  },
  {
   "cell_type": "markdown",
   "metadata": {},
   "source": [
    "# (Optional) deleting unwanted objects"
   ]
  },
  {
   "cell_type": "code",
   "execution_count": null,
   "metadata": {
    "ExecuteTime": {
     "end_time": "2020-12-02T09:08:13.493611Z",
     "start_time": "2020-12-02T09:08:13.453849Z"
    }
   },
   "outputs": [],
   "source": [
    "ps = client.find(olca.ProductSystem, 'Machining steel sections, removing 50 cm³ (parametrized)')\n",
    "#ps = client.get(olca.ProductSystem, 'fa662a4a-cb29-4475-a684-158d96dba195')\n",
    "client.delete(ps)"
   ]
  },
  {
   "cell_type": "code",
   "execution_count": null,
   "metadata": {
    "ExecuteTime": {
     "end_time": "2020-12-02T09:08:16.318662Z",
     "start_time": "2020-12-02T09:08:16.246638Z"
    }
   },
   "outputs": [],
   "source": [
    "process = client.find(olca.Process, 'Machining steel sections, removing 50 cm³ (parametrized)')\n",
    "#process = client.get(olca.Process, 'd6f4fd1d-0386-4d21-a599-af17c7a7cc8d')\n",
    "client.delete(process)  "
   ]
  },
  {
   "cell_type": "code",
   "execution_count": null,
   "metadata": {
    "ExecuteTime": {
     "end_time": "2020-12-02T09:08:23.293538Z",
     "start_time": "2020-12-02T09:08:22.013962Z"
    }
   },
   "outputs": [],
   "source": [
    "flow = client.find(olca.Flow, 'machined steel section')\n",
    "#flow = client.get(olca.Flow, '801195e6-4c57-4d36-a7ed-9881b325f891')\n",
    "client.delete(flow) "
   ]
  },
  {
   "cell_type": "code",
   "execution_count": null,
   "metadata": {},
   "outputs": [],
   "source": []
  }
 ],
 "metadata": {
  "hide_input": false,
  "kernelspec": {
   "display_name": "Python 3",
   "language": "python",
   "name": "python3"
  },
  "language_info": {
   "codemirror_mode": {
    "name": "ipython",
    "version": 3
   },
   "file_extension": ".py",
   "mimetype": "text/x-python",
   "name": "python",
   "nbconvert_exporter": "python",
   "pygments_lexer": "ipython3",
   "version": "3.6.12"
  },
  "toc": {
   "base_numbering": 1,
   "nav_menu": {},
   "number_sections": true,
   "sideBar": true,
   "skip_h1_title": false,
   "title_cell": "Table of Contents",
   "title_sidebar": "Contents",
   "toc_cell": false,
   "toc_position": {
    "height": "calc(100% - 180px)",
    "left": "10px",
    "top": "150px",
    "width": "384.433px"
   },
   "toc_section_display": true,
   "toc_window_display": true
  },
  "varInspector": {
   "cols": {
    "lenName": 16,
    "lenType": 16,
    "lenVar": 40
   },
   "kernels_config": {
    "python": {
     "delete_cmd_postfix": "",
     "delete_cmd_prefix": "del ",
     "library": "var_list.py",
     "varRefreshCmd": "print(var_dic_list())"
    },
    "r": {
     "delete_cmd_postfix": ") ",
     "delete_cmd_prefix": "rm(",
     "library": "var_list.r",
     "varRefreshCmd": "cat(var_dic_list()) "
    }
   },
   "types_to_exclude": [
    "module",
    "function",
    "builtin_function_or_method",
    "instance",
    "_Feature"
   ],
   "window_display": false
  }
 },
 "nbformat": 4,
 "nbformat_minor": 4
}
